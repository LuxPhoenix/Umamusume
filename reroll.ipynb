{
 "cells": [
  {
   "cell_type": "markdown",
   "metadata": {},
   "source": [
    "# Reroll tool"
   ]
  },
  {
   "cell_type": "code",
   "execution_count": null,
   "metadata": {},
   "outputs": [],
   "source": [
    "import pyautogui\n",
    "import pygetwindow as gw\n",
    "from pyautogui import ImageNotFoundException\n",
    "import json\n",
    "import time"
   ]
  },
  {
   "cell_type": "code",
   "execution_count": 12,
   "metadata": {},
   "outputs": [],
   "source": [
    "# Hàm để lấy cửa sổ mục tiêu\n",
    "def get_target_window(program_name):\n",
    "    windows = gw.getWindowsWithTitle(program_name)\n",
    "    if windows:\n",
    "        return windows[0]\n",
    "    return None"
   ]
  },
  {
   "cell_type": "code",
   "execution_count": 17,
   "metadata": {},
   "outputs": [
    {
     "name": "stdout",
     "output_type": "stream",
     "text": [
      "<Win32Window left=\"-8\", top=\"-8\", width=\"2576\", height=\"1456\", title=\"● reroll.ipynb - Umamusume - Visual Studio Code\">\n",
      "Đã tìm thấy cửa sổ: Umamusume\n"
     ]
    }
   ],
   "source": [
    "target_program = 'Umamusume'  # Thay thế bằng tên cửa sổ của bạn\n",
    "while True:\n",
    "    target_window = get_target_window(target_program)\n",
    "    target_window.activate()  # Kích hoạt cửa sổ nếu tìm thấy\n",
    "    print(target_window)\n",
    "    if target_window:\n",
    "        print(f\"Đã tìm thấy cửa sổ: {target_program}\")\n",
    "        break\n",
    "    else:\n",
    "        print(f\"Đang chờ {target_program} mở...\")\n",
    "        time.sleep(4)  # Chờ 5 giây trước khi kiểm tra lại"
   ]
  },
  {
   "cell_type": "code",
   "execution_count": 11,
   "metadata": {},
   "outputs": [],
   "source": [
    "window_title = \"Umamusume\"\n",
    "window = gw.getWindowsWithTitle(window_title)[0]\n",
    "window.activate()\n",
    "\n",
    "# Lấy kích thước hiện tại và tính tỉ lệ\n",
    "original_width, original_height = window.width, window.height\n",
    "aspect_ratio = original_width / original_height\n",
    "new_width = 1280\n",
    "new_height = int(new_width / aspect_ratio)\n",
    "# Áp dụng kích thước mới\n",
    "window.resizeTo(new_width, new_height)\n",
    "        \n"
   ]
  },
  {
   "cell_type": "code",
   "execution_count": 6,
   "metadata": {},
   "outputs": [
    {
     "data": {
      "text/plain": [
       "Win32Window(hWnd=132888)"
      ]
     },
     "execution_count": 6,
     "metadata": {},
     "output_type": "execute_result"
    }
   ],
   "source": [
    "window"
   ]
  }
 ],
 "metadata": {
  "kernelspec": {
   "display_name": "AutoGame",
   "language": "python",
   "name": "python3"
  },
  "language_info": {
   "codemirror_mode": {
    "name": "ipython",
    "version": 3
   },
   "file_extension": ".py",
   "mimetype": "text/x-python",
   "name": "python",
   "nbconvert_exporter": "python",
   "pygments_lexer": "ipython3",
   "version": "3.12.11"
  }
 },
 "nbformat": 4,
 "nbformat_minor": 2
}

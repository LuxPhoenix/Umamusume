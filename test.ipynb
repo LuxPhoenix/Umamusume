{
 "cells": [
  {
   "cell_type": "markdown",
   "metadata": {},
   "source": [
    "# Test get image location"
   ]
  },
  {
   "cell_type": "code",
   "execution_count": null,
   "metadata": {},
   "outputs": [],
   "source": [
    "# import pyautogui\n",
    "# # window.activate()\n",
    "# box = pyautogui.locateOnScreen(f\"figures_lap/generaltraining/hi_g.png\", confidence=0.6)\n",
    "# left, top, width, height = box\n",
    "# print(f\"Left: {left}, Top: {top}, Width: {width}, Height: {height}\")"
   ]
  },
  {
   "cell_type": "code",
   "execution_count": null,
   "metadata": {},
   "outputs": [],
   "source": [
    "pyautogui.leftClick(left, top)"
   ]
  },
  {
   "cell_type": "markdown",
   "metadata": {},
   "source": [
    "# Resize game window"
   ]
  },
  {
   "cell_type": "code",
   "execution_count": 1,
   "metadata": {},
   "outputs": [],
   "source": [
    "import time\n",
    "import pygetwindow as gw\n",
    "import pyautogui"
   ]
  },
  {
   "cell_type": "code",
   "execution_count": 3,
   "metadata": {},
   "outputs": [
    {
     "name": "stdout",
     "output_type": "stream",
     "text": [
      "New size: 1440x836 (Tỉ lệ 1.72)\n",
      "Position and size: 1366, 282, 1440, 836\n"
     ]
    }
   ],
   "source": [
    "windows = gw.getAllTitles()\n",
    "\n",
    "\n",
    "window_title = \"Umamusume\"\n",
    "window = gw.getWindowsWithTitle(window_title)[0]\n",
    "\n",
    "# Get the original size and aspect ratio\n",
    "original_width, original_height = window.width, window.height\n",
    "aspect_ratio = original_width / original_height\n",
    "\n",
    "# Resize the window to a new width while maintaining the aspect ratio\n",
    "new_width = 1440\n",
    "new_height = int(new_width / aspect_ratio)\n",
    "\n",
    "# Apply the new size to the window\n",
    "window.resizeTo(new_width, new_height)\n",
    "print(f\"New size: {new_width}x{new_height} (Tỉ lệ {aspect_ratio:.2f})\")\n",
    "\n",
    "width, height = window.width, window.height\n",
    "left, top = window.left, window.top\n",
    "print(f\"Position and size: {left}, {top}, {width}, {height}\")"
   ]
  },
  {
   "cell_type": "code",
   "execution_count": 4,
   "metadata": {},
   "outputs": [],
   "source": [
    "def check_internet():\n",
    "    ..."
   ]
  },
  {
   "cell_type": "markdown",
   "metadata": {},
   "source": [
    "# Test mouse position"
   ]
  },
  {
   "cell_type": "code",
   "execution_count": 5,
   "metadata": {},
   "outputs": [],
   "source": [
    "import pyautogui\n",
    "def get_mouse_position():\n",
    "    \"\"\"Get the current mouse position.\n",
    "    FOR TEST/LABEL ONLY\n",
    "    \"\"\"\n",
    "    return pyautogui.position()"
   ]
  },
  {
   "cell_type": "markdown",
   "metadata": {},
   "source": [
    "### Lấy vị trí tương đối so với UI"
   ]
  },
  {
   "cell_type": "code",
   "execution_count": 7,
   "metadata": {},
   "outputs": [
    {
     "name": "stdout",
     "output_type": "stream",
     "text": [
      "[420, 682]\n"
     ]
    }
   ],
   "source": [
    "x, y = get_mouse_position()\n",
    "print([x-left, y-top])"
   ]
  },
  {
   "cell_type": "markdown",
   "metadata": {},
   "source": [
    "### Lấy vị trí tương đối so với toàn màn hình"
   ]
  },
  {
   "cell_type": "code",
   "execution_count": 7,
   "metadata": {},
   "outputs": [
    {
     "name": "stdout",
     "output_type": "stream",
     "text": [
      "[1790, 219]\n"
     ]
    }
   ],
   "source": [
    "x, y = get_mouse_position()\n",
    "print([x, y])"
   ]
  },
  {
   "cell_type": "code",
   "execution_count": null,
   "metadata": {},
   "outputs": [],
   "source": [
    "top, left = 1691, 185\n",
    "bottom, right = 1790, 219"
   ]
  },
  {
   "cell_type": "code",
   "execution_count": 21,
   "metadata": {},
   "outputs": [],
   "source": [
    "def click_game(x, y, delay=0.5):\n",
    "    \"\"\"Click at the specified position in the game window.\"\"\"\n",
    "    pyautogui.click(left + x, top + y)\n",
    "    time.sleep(delay)\n",
    "    # check_internet()"
   ]
  },
  {
   "cell_type": "code",
   "execution_count": 11,
   "metadata": {},
   "outputs": [],
   "source": [
    "click_game(450,700)"
   ]
  },
  {
   "cell_type": "code",
   "execution_count": null,
   "metadata": {},
   "outputs": [],
   "source": [
    "import pygetwindow as gw\n",
    "import pyautogui\n",
    "\n",
    "# Find the window by its title\n",
    "window_title = \"Umamusume\"\n",
    "windows = gw.getWindowsWithTitle(window_title)"
   ]
  },
  {
   "cell_type": "markdown",
   "metadata": {},
   "source": [
    "# Import library"
   ]
  },
  {
   "cell_type": "code",
   "execution_count": null,
   "metadata": {},
   "outputs": [],
   "source": []
  },
  {
   "cell_type": "code",
   "execution_count": 1,
   "metadata": {},
   "outputs": [
    {
     "name": "stdout",
     "output_type": "stream",
     "text": [
      "Initialize logger for main\n",
      "Continue to next turn.\n"
     ]
    }
   ],
   "source": [
    "from control_laptop import UmaGame, identify_image\n",
    "import pygetwindow as gw\n",
    "\n",
    "# all_special_events = {\"Sweep Tosho spe\": [\"wonderful_mistake\"], \"Super Creek sta\": [], \"Special Week spe\": [], \"Mayano Top Gun sta\": [], \"Gold City spe\": [], \"Eishin Flash spe\": [], \"King Halo spe\": []}\n",
    "# supportcard = (\"Sweep Tosho spe\", \"Super Creek sta\", \"Special Week spe\", \"Mayano Top Gun sta\", \"Gold City spe\", \"Eishin Flash spe\", \"King Halo spe\")\n",
    "\n",
    "\n",
    "# windows = gw.getAllTitles()\n",
    "# # Lấy cửa sổ hiện tại (ví dụ: Umamusume)\n",
    "# window_title = \"Umamusume\"\n",
    "# window = gw.getWindowsWithTitle(window_title)[0]\n",
    "# x0, y0 = window.left, window.top\n",
    "# ww0, wh0 = window.width, window.height \n",
    "\n",
    "\n",
    "# import json\n",
    "# with open('dictionary.json', 'r', encoding='utf-8') as file:\n",
    "#     cfg = json.load(file)\n",
    "\n",
    "    \n",
    "# # cfg = {\"x0\": x0, \"y0\": y0, \"ww0\": ww0, \"wh0\": wh0}\n",
    "# cfg[\"x0\"], cfg[\"y0\"], cfg[\"ww0\"], cfg[\"wh0\"] = x0, y0, ww0, wh0\n",
    "game = UmaGame(test=1)\n",
    "\n",
    "s = []  # The part loads special event list.\n",
    "# for i in supportcard:\n",
    "#         x = all_special_events[i] \n",
    "#         if len(x) > 0:\n",
    "#             for j in x:\n",
    "#                 s.append(j)\n",
    "# game.special_events = s"
   ]
  },
  {
   "cell_type": "code",
   "execution_count": null,
   "metadata": {},
   "outputs": [
    {
     "name": "stderr",
     "output_type": "stream",
     "text": [
      "2025-07-15 06:53:01,689 - main - DEBUG - \u001b[1;32mTurn 3: No choice event.\u001b[0m\n",
      "2025-07-15 06:53:02,686 - main - DEBUG - \u001b[1;32mTurn 3: No main race today.\u001b[0m\n",
      "2025-07-15 06:53:03,111 - main - DEBUG - \u001b[1;32mTurn 3: Status good today.\u001b[0m\n",
      "2025-07-15 06:53:05,687 - main - INFO - \u001b[1;34mTurn 3: Raise mood by recreation.\u001b[0m\n",
      "2025-07-15 06:53:15,021 - main - DEBUG - \u001b[1;32mTurn 4: No choice event.\u001b[0m\n",
      "2025-07-15 06:53:15,829 - main - DEBUG - \u001b[1;32mTurn 4: No main race today.\u001b[0m\n",
      "2025-07-15 06:53:16,259 - main - DEBUG - \u001b[1;32mTurn 4: Status good today.\u001b[0m\n"
     ]
    }
   ],
   "source": [
    "# game.train_horse_loop(\"Oguri Cup\", supportcard, turn=4)\n",
    "game.train_horse_loop(\"Oguri Cup\", turn=3)"
   ]
  },
  {
   "cell_type": "code",
   "execution_count": null,
   "metadata": {},
   "outputs": [],
   "source": [
    "identify_image(\"tlcorner\", confi=0.5)"
   ]
  },
  {
   "cell_type": "code",
   "execution_count": null,
   "metadata": {},
   "outputs": [],
   "source": [
    "pyautogui.click(857.5, 176.5)"
   ]
  },
  {
   "cell_type": "code",
   "execution_count": null,
   "metadata": {},
   "outputs": [],
   "source": []
  },
  {
   "cell_type": "markdown",
   "metadata": {},
   "source": [
    "# Test tính năng trích văn bản"
   ]
  },
  {
   "cell_type": "code",
   "execution_count": 4,
   "metadata": {},
   "outputs": [
    {
     "name": "stdout",
     "output_type": "stream",
     "text": [
      "Position and size: 1578, 328, 1538, 895\n"
     ]
    }
   ],
   "source": [
    "windows = gw.getAllTitles()\n",
    "\n",
    "window = gw.getWindowsWithTitle(\"Umamusume\")[0]\n",
    "\n",
    "width, height = window.width, window.height\n",
    "left, top = window.left, window.top\n",
    "print(f\"Position and size: {left}, {top}, {width}, {height}\")"
   ]
  },
  {
   "cell_type": "code",
   "execution_count": 27,
   "metadata": {},
   "outputs": [
    {
     "name": "stdout",
     "output_type": "stream",
     "text": [
      "Time taken: 0.45 seconds\n",
      "\n"
     ]
    }
   ],
   "source": [
    "import pytesseract\n",
    "import time\n",
    "import cv2\n",
    "pytesseract.pytesseract.tesseract_cmd = r\"C://Program Files//Tesseract-OCR//tesseract.exe\"\n",
    "start = time.time()\n",
    "\n",
    "# Đọc ảnh\n",
    "image = cv2.imread('test/test.png')\n",
    "\n",
    "# Tọa độ 2 góc hình chữ nhật của vùng cần OCR (vd)\n",
    "x1, y1 = 1803, 874\n",
    "x2, y2 = 1872, 910\n",
    "\n",
    "# Cắt vùng ảnh\n",
    "x_start, x_end = min(x1, x2), max(x1, x2)\n",
    "y_start, y_end = min(y1, y2), max(y1, y2)\n",
    "cropped_img = image[y_start:y_end, x_start:x_end]\n",
    "\n",
    "# (Tùy chọn) Chuyển sang ảnh xám để tăng độ chính xác nhận dạng\n",
    "# gray_img = cv2.cvtColor(cropped_img, cv2.COLOR_BGR2GRAY)\n",
    "\n",
    "# Gửi ảnh vùng đã crop đến Tesseract OCR - ngôn ngữ tiếng Việt 'vie' hoặc tiếng Anh 'eng'\n",
    "# -l: chỉ định ngôn ngữ, có thể cài đặt thêm language pack cho tiếng Việt\n",
    "text = pytesseract.image_to_string(cropped_img, lang='eng')  # hoặc lang='vie' nếu có\n",
    "\n",
    "end = time.time()\n",
    "print(f\"Time taken: {end - start:.2f} seconds\")\n",
    "\n",
    "print(text)"
   ]
  },
  {
   "cell_type": "code",
   "execution_count": 29,
   "metadata": {},
   "outputs": [
    {
     "ename": "ModuleNotFoundError",
     "evalue": "No module named 'matplotlib'",
     "output_type": "error",
     "traceback": [
      "\u001b[1;31m---------------------------------------------------------------------------\u001b[0m",
      "\u001b[1;31mModuleNotFoundError\u001b[0m                       Traceback (most recent call last)",
      "Cell \u001b[1;32mIn[29], line 1\u001b[0m\n\u001b[1;32m----> 1\u001b[0m \u001b[38;5;28;01mimport\u001b[39;00m \u001b[38;5;21;01mmatplotlib\u001b[39;00m\u001b[38;5;21;01m.\u001b[39;00m\u001b[38;5;21;01mpyplot\u001b[39;00m \u001b[38;5;28;01mas\u001b[39;00m \u001b[38;5;21;01mplt\u001b[39;00m\n\u001b[0;32m      3\u001b[0m \u001b[38;5;66;03m# Display the cropped image\u001b[39;00m\n\u001b[0;32m      4\u001b[0m plt\u001b[38;5;241m.\u001b[39mimshow(cropped_img)\n",
      "\u001b[1;31mModuleNotFoundError\u001b[0m: No module named 'matplotlib'"
     ]
    }
   ],
   "source": [
    "import matplotlib.pyplot as plt\n",
    "\n",
    "# Display the cropped image\n",
    "plt.imshow(cropped_img)\n",
    "plt.axis('off')  # Turn off axis labels\n",
    "plt.title(\"Cropped Image\")\n",
    "plt.show()"
   ]
  },
  {
   "cell_type": "code",
   "execution_count": 5,
   "metadata": {},
   "outputs": [],
   "source": [
    "import pyautogui\n",
    "def get_mouse_position():\n",
    "    \"\"\"Get the current mouse position.\n",
    "    FOR TEST/LABEL ONLY\n",
    "    \"\"\"\n",
    "    return pyautogui.position()"
   ]
  },
  {
   "cell_type": "code",
   "execution_count": 25,
   "metadata": {},
   "outputs": [
    {
     "name": "stdout",
     "output_type": "stream",
     "text": [
      "[1928, 183]\n"
     ]
    }
   ],
   "source": [
    "x1, y1 = get_mouse_position()\n",
    "print([x1, y1])"
   ]
  },
  {
   "cell_type": "code",
   "execution_count": 26,
   "metadata": {},
   "outputs": [
    {
     "name": "stdout",
     "output_type": "stream",
     "text": [
      "[1986, 211]\n"
     ]
    }
   ],
   "source": [
    "x2, y2 = get_mouse_position()\n",
    "print([x2, y2])"
   ]
  },
  {
   "cell_type": "code",
   "execution_count": 12,
   "metadata": {},
   "outputs": [
    {
     "name": "stdout",
     "output_type": "stream",
     "text": [
      "[([[np.int32(6), np.int32(6)], [np.int32(94), np.int32(6)], [np.int32(94), np.int32(30)], [np.int32(6), np.int32(30)]], 'Sinh nhật', np.float64(0.7372608608279182))]\n"
     ]
    }
   ],
   "source": [
    "print(result)"
   ]
  },
  {
   "cell_type": "code",
   "execution_count": null,
   "metadata": {},
   "outputs": [
    {
     "name": "stdout",
     "output_type": "stream",
     "text": [
      "Đã lưu ảnh chụp màn hình thành: test/test.png\n"
     ]
    }
   ],
   "source": [
    "import pyautogui\n",
    "import time\n",
    "\n",
    "# Chụp ảnh màn hình và lưu với tên tự động theo thời gian\n",
    "def capture_screen():\n",
    "    # Tạo tên file tự động theo thời gian\n",
    "    filename = f\"test/test.png\"\n",
    "    \n",
    "    # Chụp ảnh màn hình\n",
    "    screenshot = pyautogui.screenshot()\n",
    "    \n",
    "    # Lưu ảnh\n",
    "    screenshot.save(filename)\n",
    "    print(f\"Đã lưu ảnh chụp màn hình thành: {filename}\")\n",
    "\n",
    "# Gọi hàm chụp ảnh\n",
    "capture_screen()"
   ]
  }
 ],
 "metadata": {
  "kernelspec": {
   "display_name": "AutoGame",
   "language": "python",
   "name": "python3"
  },
  "language_info": {
   "codemirror_mode": {
    "name": "ipython",
    "version": 3
   },
   "file_extension": ".py",
   "mimetype": "text/x-python",
   "name": "python",
   "nbconvert_exporter": "python",
   "pygments_lexer": "ipython3",
   "version": "3.12.11"
  }
 },
 "nbformat": 4,
 "nbformat_minor": 2
}

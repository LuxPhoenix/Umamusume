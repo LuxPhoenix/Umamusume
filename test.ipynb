{
 "cells": [
  {
   "cell_type": "markdown",
   "metadata": {},
   "source": [
    "# Test get image location"
   ]
  },
  {
   "cell_type": "code",
   "execution_count": 1,
   "metadata": {},
   "outputs": [],
   "source": [
    "# import pyautogui\n",
    "# # window.activate()\n",
    "# box = pyautogui.locateOnScreen(f\"figures_lap/generaltraining/hi_g.png\", confidence=0.6)\n",
    "# left, top, width, height = box\n",
    "# print(f\"Left: {left}, Top: {top}, Width: {width}, Height: {height}\")"
   ]
  },
  {
   "cell_type": "code",
   "execution_count": 2,
   "metadata": {},
   "outputs": [
    {
     "ename": "NameError",
     "evalue": "name 'pyautogui' is not defined",
     "output_type": "error",
     "traceback": [
      "\u001b[1;31m---------------------------------------------------------------------------\u001b[0m",
      "\u001b[1;31mNameError\u001b[0m                                 Traceback (most recent call last)",
      "Cell \u001b[1;32mIn[2], line 1\u001b[0m\n\u001b[1;32m----> 1\u001b[0m \u001b[43mpyautogui\u001b[49m\u001b[38;5;241m.\u001b[39mleftClick(left, top)\n",
      "\u001b[1;31mNameError\u001b[0m: name 'pyautogui' is not defined"
     ]
    }
   ],
   "source": [
    "pyautogui.leftClick(left, top)"
   ]
  },
  {
   "cell_type": "markdown",
   "metadata": {},
   "source": [
    "# Resize game window"
   ]
  },
  {
   "cell_type": "code",
   "execution_count": 1,
   "metadata": {},
   "outputs": [],
   "source": [
    "import time\n",
    "import pygetwindow as gw\n",
    "import pyautogui"
   ]
  },
  {
   "cell_type": "code",
   "execution_count": 2,
   "metadata": {},
   "outputs": [
    {
     "name": "stdout",
     "output_type": "stream",
     "text": [
      "New size: 1440x834 (Tỉ lệ 1.73)\n",
      "Position and size: 1206, 221, 1440, 834\n"
     ]
    }
   ],
   "source": [
    "windows = gw.getAllTitles()\n",
    "\n",
    "\n",
    "window_title = \"Umamusume\"\n",
    "window = gw.getWindowsWithTitle(window_title)[0]\n",
    "\n",
    "# Get the original size and aspect ratio\n",
    "original_width, original_height = window.width, window.height\n",
    "aspect_ratio = original_width / original_height\n",
    "\n",
    "# Resize the window to a new width while maintaining the aspect ratio\n",
    "new_width = 1440\n",
    "new_height = int(new_width / aspect_ratio)\n",
    "\n",
    "# Apply the new size to the window\n",
    "window.resizeTo(new_width, new_height)\n",
    "print(f\"New size: {new_width}x{new_height} (Tỉ lệ {aspect_ratio:.2f})\")\n",
    "\n",
    "width, height = window.width, window.height\n",
    "left, top = window.left, window.top\n",
    "print(f\"Position and size: {left}, {top}, {width}, {height}\")"
   ]
  },
  {
   "cell_type": "code",
   "execution_count": null,
   "metadata": {},
   "outputs": [],
   "source": [
    "def check_internet():\n",
    "    ..."
   ]
  },
  {
   "cell_type": "markdown",
   "metadata": {},
   "source": [
    "# Test mouse position"
   ]
  },
  {
   "cell_type": "code",
   "execution_count": null,
   "metadata": {},
   "outputs": [],
   "source": [
    "import pyautogui\n",
    "def get_mouse_position():\n",
    "    \"\"\"Get the current mouse position.\n",
    "    FOR TEST/LABEL ONLY\n",
    "    \"\"\"\n",
    "    return pyautogui.position()"
   ]
  },
  {
   "cell_type": "markdown",
   "metadata": {},
   "source": [
    "### Lấy vị trí tương đối so với UI"
   ]
  },
  {
   "cell_type": "code",
   "execution_count": null,
   "metadata": {},
   "outputs": [
    {
     "name": "stdout",
     "output_type": "stream",
     "text": [
      "[634, 752]\n"
     ]
    }
   ],
   "source": [
    "x, y = get_mouse_position()\n",
    "print([x-left, y-top])"
   ]
  },
  {
   "cell_type": "markdown",
   "metadata": {},
   "source": [
    "### Lấy vị trí tương đối so với toàn màn hình"
   ]
  },
  {
   "cell_type": "code",
   "execution_count": null,
   "metadata": {},
   "outputs": [
    {
     "name": "stdout",
     "output_type": "stream",
     "text": [
      "[1790, 219]\n"
     ]
    }
   ],
   "source": [
    "x, y = get_mouse_position()\n",
    "print([x, y])"
   ]
  },
  {
   "cell_type": "code",
   "execution_count": null,
   "metadata": {},
   "outputs": [],
   "source": [
    "top, left = 1691, 185\n",
    "bottom, right = 1790, 219"
   ]
  },
  {
   "cell_type": "code",
   "execution_count": null,
   "metadata": {},
   "outputs": [],
   "source": [
    "def click_game(x, y, delay=0.5):\n",
    "    \"\"\"Click at the specified position in the game window.\"\"\"\n",
    "    pyautogui.click(left + x, top + y)\n",
    "    time.sleep(delay)\n",
    "    # check_internet()"
   ]
  },
  {
   "cell_type": "code",
   "execution_count": null,
   "metadata": {},
   "outputs": [],
   "source": [
    "click_game(450,700)"
   ]
  },
  {
   "cell_type": "code",
   "execution_count": null,
   "metadata": {},
   "outputs": [],
   "source": [
    "import pygetwindow as gw\n",
    "import pyautogui\n",
    "\n",
    "# Find the window by its title\n",
    "window_title = \"Umamusume\"\n",
    "windows = gw.getWindowsWithTitle(window_title)"
   ]
  },
  {
   "cell_type": "markdown",
   "metadata": {},
   "source": [
    "# Import library"
   ]
  },
  {
   "cell_type": "code",
   "execution_count": null,
   "metadata": {},
   "outputs": [],
   "source": []
  },
  {
   "cell_type": "code",
   "execution_count": 1,
   "metadata": {},
   "outputs": [
    {
     "name": "stdout",
     "output_type": "stream",
     "text": [
      "Initialize logger for main\n",
      "Continue to next turn.\n"
     ]
    }
   ],
   "source": [
    "from control_laptop import UmaGame, identify_image\n",
    "import pygetwindow as gw\n",
    "\n",
    "support_card = (\"Silence Suzuka spe\", \"Tokai Teio spe\", \"Mejiro McQueen sta\", \"Super Creek sta\", \"Daiwa Scarlet wit\", \"Kita Black spe\")\n",
    "\n",
    "game = UmaGame(test=1, support_card=support_card)\n",
    "\n"
   ]
  },
  {
   "cell_type": "code",
   "execution_count": null,
   "metadata": {},
   "outputs": [
    {
     "name": "stderr",
     "output_type": "stream",
     "text": [
      "2025-07-15 06:53:01,689 - main - DEBUG - \u001b[1;32mTurn 3: No choice event.\u001b[0m\n",
      "2025-07-15 06:53:02,686 - main - DEBUG - \u001b[1;32mTurn 3: No main race today.\u001b[0m\n",
      "2025-07-15 06:53:03,111 - main - DEBUG - \u001b[1;32mTurn 3: Status good today.\u001b[0m\n",
      "2025-07-15 06:53:05,687 - main - INFO - \u001b[1;34mTurn 3: Raise mood by recreation.\u001b[0m\n",
      "2025-07-15 06:53:15,021 - main - DEBUG - \u001b[1;32mTurn 4: No choice event.\u001b[0m\n",
      "2025-07-15 06:53:15,829 - main - DEBUG - \u001b[1;32mTurn 4: No main race today.\u001b[0m\n",
      "2025-07-15 06:53:16,259 - main - DEBUG - \u001b[1;32mTurn 4: Status good today.\u001b[0m\n"
     ]
    }
   ],
   "source": [
    "\n",
    "game.train_horse_loop(\"Oguri Cup\", turn=3)"
   ]
  },
  {
   "cell_type": "code",
   "execution_count": 2,
   "metadata": {},
   "outputs": [
    {
     "name": "stderr",
     "output_type": "stream",
     "text": [
      "2025-07-21 10:24:41,859 - main - INFO - \u001b[1;34mTurn 0: Find choice event.\u001b[0m\n",
      "2025-07-21 10:24:42,683 - main - INFO - \u001b[1;34mTurn 0: Event name detected: Paying It Forward\u001b[0m\n",
      "2025-07-21 10:24:45,300 - main - INFO - \u001b[1;34mTurn 0: Special event Paying It Forward detected, choice 1 selected.\u001b[0m\n",
      "2025-07-21 10:24:45,635 - main - INFO - \u001b[1;34mTurn 0: Find choice event.\u001b[0m\n",
      "2025-07-21 10:24:46,313 - main - INFO - \u001b[1;34mTurn 0: Event name detected: Paying It Forward\u001b[0m\n",
      "2025-07-21 10:24:48,930 - main - INFO - \u001b[1;34mTurn 0: Special event Paying It Forward detected, choice 1 selected.\u001b[0m\n",
      "2025-07-21 10:24:49,271 - main - INFO - \u001b[1;34mTurn 0: Find choice event.\u001b[0m\n",
      "2025-07-21 10:24:50,015 - main - INFO - \u001b[1;34mTurn 0: Event name detected: Paying It Forward\u001b[0m\n",
      "2025-07-21 10:24:52,619 - main - INFO - \u001b[1;34mTurn 0: Special event Paying It Forward detected, choice 1 selected.\u001b[0m\n",
      "2025-07-21 10:24:52,620 - main - INFO - \u001b[1;34mTurn 0: Special event detected.\u001b[0m\n"
     ]
    }
   ],
   "source": [
    "game._check_multiq()"
   ]
  },
  {
   "cell_type": "code",
   "execution_count": null,
   "metadata": {},
   "outputs": [
    {
     "name": "stdout",
     "output_type": "stream",
     "text": [
      "Silence Suzuka spe\n",
      "Tokai Teio spe\n",
      "Mejiro McQueen sta\n",
      "Super Creek sta\n",
      "Daiwa Scarlet wit\n",
      "Kita Black spe\n"
     ]
    }
   ],
   "source": [
    "for character in support_card:\n",
    "    print(character)\n",
    "    try:\n",
    "        character_events = game.all_support_card[character] \n",
    "        for event_name, event_data in character_events.items():\n",
    "            special_events[event_name] = event_data\n",
    "    except KeyError as e:\n",
    "        print(e)"
   ]
  },
  {
   "cell_type": "code",
   "execution_count": 9,
   "metadata": {},
   "outputs": [
    {
     "name": "stdout",
     "output_type": "stream",
     "text": [
      "On and On {'selectable': 1, 'choice_1': {'Stat': {'Speed': 10, 'Stamina': 5}, 'bond': 5}, 'choice_2': {'Stat': {'Speed': 15}, 'bond': 5}}\n",
      "What Should I Do? {'selectable': 1, 'choice_1': {'Stat': {'Speed': 5, 'Stamina': 5, 'Wisdom': 5}, 'bond': 5}, 'choice_2': {'skill': 'Left-Handed', 'bond': 5}}\n"
     ]
    }
   ],
   "source": [
    "for event_name, event_data in game.all_support_card['Silence Suzuka spe'].items():\n",
    "    print(event_name, event_data)"
   ]
  },
  {
   "cell_type": "code",
   "execution_count": 5,
   "metadata": {},
   "outputs": [
    {
     "data": {
      "text/plain": [
       "True"
      ]
     },
     "execution_count": 5,
     "metadata": {},
     "output_type": "execute_result"
    }
   ],
   "source": [
    "'Kita Black spe' in game.all_support_card"
   ]
  },
  {
   "cell_type": "code",
   "execution_count": null,
   "metadata": {},
   "outputs": [],
   "source": [
    "identify_image(\"tlcorner\", confi=0.5)"
   ]
  },
  {
   "cell_type": "code",
   "execution_count": null,
   "metadata": {},
   "outputs": [],
   "source": [
    "pyautogui.click(857.5, 176.5)"
   ]
  },
  {
   "cell_type": "code",
   "execution_count": null,
   "metadata": {},
   "outputs": [],
   "source": []
  },
  {
   "cell_type": "markdown",
   "metadata": {},
   "source": [
    "# Test tính năng trích văn bản"
   ]
  },
  {
   "cell_type": "markdown",
   "metadata": {},
   "source": [
    "## Setup function and library"
   ]
  },
  {
   "cell_type": "code",
   "execution_count": null,
   "metadata": {},
   "outputs": [
    {
     "name": "stdout",
     "output_type": "stream",
     "text": [
      "Initialize logger for main\n",
      "Continue to next turn.\n"
     ]
    }
   ],
   "source": [
    "import cv2\n",
    "import time\n",
    "import pyautogui\n",
    "import pytesseract\n",
    "import pygetwindow as gw\n",
    "\n",
    "from control_laptop import UmaGame, identify_image\n",
    "from concurrent.futures import ThreadPoolExecutor\n",
    "\n",
    "pytesseract.pytesseract.tesseract_cmd = r\"C://Program Files//Tesseract-OCR//tesseract.exe\"\n",
    "\n",
    "\n",
    "game = UmaGame(test=1)\n",
    "\n",
    "# Chụp ảnh màn hình và lưu với tên tự động theo thời gian\n",
    "def capture_screen():\n",
    "    # Tạo tên file tự động theo thời gian\n",
    "    filename = f\"test/test.png\"\n",
    "    \n",
    "    # Chụp ảnh màn hình\n",
    "    screenshot = pyautogui.screenshot(region=(game.x, game.y, game.w, game.h))\n",
    "    \n",
    "    # Lưu ảnh\n",
    "    screenshot.save(filename)\n",
    "    # print(f\"Đã lưu ảnh chụp màn hình thành: {filename}\")"
   ]
  },
  {
   "cell_type": "code",
   "execution_count": null,
   "metadata": {},
   "outputs": [
    {
     "data": {
      "text/plain": [
       "(np.float64(225.0), np.float64(503.5))"
      ]
     },
     "execution_count": 18,
     "metadata": {},
     "output_type": "execute_result"
    }
   ],
   "source": [
    "a, b = identify_image(\"generaltraining/hi_g\", 0.90)\n",
    "a - game.x, b - game.y"
   ]
  },
  {
   "cell_type": "code",
   "execution_count": null,
   "metadata": {},
   "outputs": [
    {
     "name": "stdout",
     "output_type": "stream",
     "text": [
      "Position and size: 1470, 150, 1440, 832\n"
     ]
    }
   ],
   "source": [
    "windows = gw.getAllTitles()\n",
    "\n",
    "window = gw.getWindowsWithTitle(\"Umamusume\")[0]\n",
    "\n",
    "width, height = window.width, window.height\n",
    "left, top = window.left, window.top\n",
    "print(f\"Position and size: {left}, {top}, {width}, {height}\")"
   ]
  },
  {
   "cell_type": "code",
   "execution_count": null,
   "metadata": {},
   "outputs": [
    {
     "name": "stdout",
     "output_type": "stream",
     "text": [
      "Thời gian chụp ảnh: 0.57 giây\n"
     ]
    }
   ],
   "source": [
    "# Gọi hàm chụp ảnh\n",
    "start = time.time()\n",
    "capture_screen()\n",
    "end = time.time()\n",
    "print(f\"Thời gian chụp ảnh: {end - start:.2f} giây\")"
   ]
  },
  {
   "cell_type": "code",
   "execution_count": null,
   "metadata": {},
   "outputs": [
    {
     "name": "stdout",
     "output_type": "stream",
     "text": [
      "Time taken: 0.57 seconds\n",
      "\n"
     ]
    }
   ],
   "source": [
    "\n",
    "start = time.time()\n",
    "\n",
    "# Đọc ảnh\n",
    "image = cv2.imread('test/test.png')\n",
    "\n",
    "# Tọa độ 2 góc hình chữ nhật của vùng cần OCR (vd)\n",
    "x1, y1 = 127, 155\n",
    "x2, y2 = 187, 215\n",
    "\n",
    "# Cắt vùng ảnh\n",
    "x_start, x_end = min(x1, x2), max(x1, x2)\n",
    "y_start, y_end = min(y1, y2), max(y1, y2)\n",
    "cropped_img = image[y_start:y_end, x_start:x_end]\n",
    "\n",
    "text = pytesseract.image_to_string(cropped_img, lang='eng')  # hoặc lang='vie' nếu có\n",
    "\n",
    "end = time.time()\n",
    "print(f\"Time taken: {end - start:.2f} seconds\")\n",
    "\n",
    "print(text)"
   ]
  },
  {
   "cell_type": "code",
   "execution_count": null,
   "metadata": {},
   "outputs": [
    {
     "data": {
      "image/png": "[encoded data removed]",
      "text/plain": [
       "<Figure size 640x480 with 1 Axes>"
      ]
     },
     "metadata": {},
     "output_type": "display_data"
    }
   ],
   "source": [
    "import matplotlib.pyplot as plt\n",
    "\n",
    "# Display the cropped image\n",
    "plt.imshow(cropped_img)\n",
    "plt.axis('off')  # Turn off axis labels\n",
    "plt.title(\"Cropped Image\")\n",
    "plt.show()"
   ]
  },
  {
   "cell_type": "code",
   "execution_count": null,
   "metadata": {},
   "outputs": [],
   "source": [
    "import pyautogui\n",
    "def get_mouse_position():\n",
    "    \"\"\"Get the current mouse position.\n",
    "    FOR TEST/LABEL ONLY\n",
    "    \"\"\"\n",
    "    return pyautogui.position()"
   ]
  },
  {
   "cell_type": "code",
   "execution_count": null,
   "metadata": {},
   "outputs": [
    {
     "name": "stdout",
     "output_type": "stream",
     "text": [
      "[190, 162]\n"
     ]
    }
   ],
   "source": [
    "x1, y1 = get_mouse_position()\n",
    "print([x1 - game.x, y1 - game.y])"
   ]
  },
  {
   "cell_type": "code",
   "execution_count": null,
   "metadata": {},
   "outputs": [
    {
     "name": "stdout",
     "output_type": "stream",
     "text": [
      "[462, 205]\n"
     ]
    }
   ],
   "source": [
    "x2, y2 = get_mouse_position()\n",
    "print([x2 - game.x, y2 - game.y])"
   ]
  },
  {
   "cell_type": "code",
   "execution_count": null,
   "metadata": {},
   "outputs": [
    {
     "data": {
      "text/plain": [
       "82"
      ]
     },
     "execution_count": 17,
     "metadata": {},
     "output_type": "execute_result"
    }
   ],
   "source": [
    "1176-1094"
   ]
  },
  {
   "cell_type": "code",
   "execution_count": null,
   "metadata": {},
   "outputs": [
    {
     "name": "stdout",
     "output_type": "stream",
     "text": [
      "[([[np.int32(6), np.int32(6)], [np.int32(94), np.int32(6)], [np.int32(94), np.int32(30)], [np.int32(6), np.int32(30)]], 'Sinh nhật', np.float64(0.7372608608279182))]\n"
     ]
    }
   ],
   "source": [
    "print(result)"
   ]
  },
  {
   "cell_type": "code",
   "execution_count": null,
   "metadata": {},
   "outputs": [
    {
     "name": "stdout",
     "output_type": "stream",
     "text": [
      "Đã lưu ảnh chụp màn hình thành: test/test.png\n"
     ]
    }
   ],
   "source": []
  }
 ],
 "metadata": {
  "kernelspec": {
   "display_name": "AutoGame",
   "language": "python",
   "name": "python3"
  },
  "language_info": {
   "codemirror_mode": {
    "name": "ipython",
    "version": 3
   },
   "file_extension": ".py",
   "mimetype": "text/x-python",
   "name": "python",
   "nbconvert_exporter": "python",
   "pygments_lexer": "ipython3",
   "version": "3.12.11"
  }
 },
 "nbformat": 4,
 "nbformat_minor": 2
}

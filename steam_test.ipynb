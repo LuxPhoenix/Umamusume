{
 "cells": [
  {
   "cell_type": "markdown",
   "metadata": {},
   "source": [
    "# Run steam version\n",
    "\n",
    "- After you see training UI that have \"Rest\", \"Training\", \"Skill\",... run the code below, the screen size will automatic will change to 1440x"
   ]
  },
  {
   "cell_type": "code",
   "execution_count": 1,
   "metadata": {},
   "outputs": [
    {
     "name": "stdout",
     "output_type": "stream",
     "text": [
      "Initialize logger for main\n",
      "Continue to next turn.\n"
     ]
    }
   ],
   "source": [
    "from control_laptop import UmaGame, identify_image\n",
    "import pygetwindow as gw\n",
    "\n",
    "game = UmaGame(test=1)"
   ]
  },
  {
   "cell_type": "code",
   "execution_count": null,
   "metadata": {},
   "outputs": [
    {
     "name": "stderr",
     "output_type": "stream",
     "text": [
      "2025-07-15 08:27:14,753 - main - DEBUG - \u001b[1;32mTurn 4: No choice event.\u001b[0m\n",
      "2025-07-15 08:27:14,933 - main - DEBUG - \u001b[1;32mTurn 4: No main race today.\u001b[0m\n",
      "2025-07-15 08:27:15,025 - main - DEBUG - \u001b[1;32mTurn 4: Status good today.\u001b[0m\n",
      "2025-07-15 08:27:15,379 - main - INFO - \u001b[1;34mTurn 4: Mood is GREAT, no need to raise mood.\u001b[0m\n",
      "2025-07-15 08:27:15,478 - main - INFO - \u001b[1;34mTurn 4: Energy bar safe.\u001b[0m\n",
      "2025-07-15 08:27:15,478 - main - DEBUG - \u001b[1;32mTurn 4: Check training options.\u001b[0m\n"
     ]
    },
    {
     "name": "stdout",
     "output_type": "stream",
     "text": [
      "The score under 2th training option is 0.6\n",
      "The score under 3th training option is 0.2\n",
      "The score under 4th training option is 1.55\n",
      "The score under 5th training option is 0.0\n",
      "The score under 1th training option is 3.5\n"
     ]
    },
    {
     "name": "stderr",
     "output_type": "stream",
     "text": [
      "2025-07-15 08:27:27,435 - main - INFO - \u001b[1;34mTurn 4: Training Speed with score 3.5.\u001b[0m\n",
      "2025-07-15 08:27:31,518 - main - DEBUG - \u001b[1;32mTurn 5: No choice event.\u001b[0m\n",
      "2025-07-15 08:27:31,704 - main - DEBUG - \u001b[1;32mTurn 5: No main race today.\u001b[0m\n",
      "2025-07-15 08:27:31,799 - main - DEBUG - \u001b[1;32mTurn 5: Status good today.\u001b[0m\n",
      "2025-07-15 08:27:32,156 - main - INFO - \u001b[1;34mTurn 5: Mood is GREAT, no need to raise mood.\u001b[0m\n",
      "2025-07-15 08:27:32,246 - main - INFO - \u001b[1;34mTurn 5: Energy bar safe.\u001b[0m\n",
      "2025-07-15 08:27:32,247 - main - DEBUG - \u001b[1;32mTurn 5: Check training options.\u001b[0m\n"
     ]
    },
    {
     "name": "stdout",
     "output_type": "stream",
     "text": [
      "The score under 2th training option is 1.6\n",
      "The score under 3th training option is 1.2\n",
      "The score under 4th training option is 0.55\n",
      "The score under 5th training option is 0.0\n",
      "The score under 1th training option is 1.5\n"
     ]
    },
    {
     "name": "stderr",
     "output_type": "stream",
     "text": [
      "2025-07-15 08:27:44,175 - main - INFO - \u001b[1;34mTurn 5: Training Stamina with score 1.6.\u001b[0m\n",
      "2025-07-15 08:27:48,256 - main - DEBUG - \u001b[1;32mTurn 6: No choice event.\u001b[0m\n",
      "2025-07-15 08:27:48,439 - main - DEBUG - \u001b[1;32mTurn 6: No main race today.\u001b[0m\n",
      "2025-07-15 08:27:48,533 - main - DEBUG - \u001b[1;32mTurn 6: Status good today.\u001b[0m\n",
      "2025-07-15 08:27:48,893 - main - INFO - \u001b[1;34mTurn 6: Mood is GREAT, no need to raise mood.\u001b[0m\n",
      "2025-07-15 08:27:48,981 - main - INFO - \u001b[1;34mTurn 6: Energy bar low, rest.\u001b[0m\n",
      "2025-07-15 08:27:58,677 - main - DEBUG - \u001b[1;32mTurn 7: No choice event.\u001b[0m\n",
      "2025-07-15 08:27:58,847 - main - DEBUG - \u001b[1;32mTurn 7: No main race today.\u001b[0m\n",
      "2025-07-15 08:27:58,952 - main - DEBUG - \u001b[1;32mTurn 7: Status good today.\u001b[0m\n",
      "2025-07-15 08:27:59,330 - main - INFO - \u001b[1;34mTurn 7: Mood is GREAT, no need to raise mood.\u001b[0m\n",
      "2025-07-15 08:27:59,423 - main - INFO - \u001b[1;34mTurn 7: Energy bar low, rest.\u001b[0m\n",
      "2025-07-15 08:28:09,127 - main - DEBUG - \u001b[1;32mTurn 8: No choice event.\u001b[0m\n",
      "2025-07-15 08:28:09,329 - main - DEBUG - \u001b[1;32mTurn 8: No main race today.\u001b[0m\n",
      "2025-07-15 08:28:09,430 - main - DEBUG - \u001b[1;32mTurn 8: Status good today.\u001b[0m\n",
      "2025-07-15 08:28:09,798 - main - INFO - \u001b[1;34mTurn 8: Mood is GREAT, no need to raise mood.\u001b[0m\n",
      "2025-07-15 08:28:09,897 - main - INFO - \u001b[1;34mTurn 8: Energy bar safe.\u001b[0m\n",
      "2025-07-15 08:28:09,898 - main - DEBUG - \u001b[1;32mTurn 8: Check training options.\u001b[0m\n"
     ]
    },
    {
     "name": "stdout",
     "output_type": "stream",
     "text": [
      "The score under 3th training option is 2.2\n",
      "The score under 4th training option is -0.45\n",
      "The score under 5th training option is 0.0\n",
      "The score under 1th training option is 3.5\n",
      "The score under 2th training option is 0.6\n"
     ]
    },
    {
     "name": "stderr",
     "output_type": "stream",
     "text": [
      "2025-07-15 08:28:21,909 - main - INFO - \u001b[1;34mTurn 8: Training Speed with score 3.5.\u001b[0m\n",
      "2025-07-15 08:28:25,989 - main - DEBUG - \u001b[1;32mTurn 9: No choice event.\u001b[0m\n",
      "2025-07-15 08:28:26,177 - main - DEBUG - \u001b[1;32mTurn 9: No main race today.\u001b[0m\n",
      "2025-07-15 08:28:26,268 - main - DEBUG - \u001b[1;32mTurn 9: Status good today.\u001b[0m\n",
      "2025-07-15 08:28:26,628 - main - INFO - \u001b[1;34mTurn 9: Mood is GREAT, no need to raise mood.\u001b[0m\n",
      "2025-07-15 08:28:26,719 - main - INFO - \u001b[1;34mTurn 9: Energy bar safe.\u001b[0m\n",
      "2025-07-15 08:28:26,720 - main - DEBUG - \u001b[1;32mTurn 9: Check training options.\u001b[0m\n"
     ]
    },
    {
     "name": "stdout",
     "output_type": "stream",
     "text": [
      "The score under 2th training option is 0.6\n",
      "The score under 3th training option is 0.2\n",
      "The score under 4th training option is -0.45\n",
      "The score under 5th training option is 0.0\n",
      "The score under 1th training option is 1.5\n"
     ]
    },
    {
     "name": "stderr",
     "output_type": "stream",
     "text": [
      "2025-07-15 08:28:38,752 - main - INFO - \u001b[1;34mTurn 9: Training Speed with score 1.5.\u001b[0m\n",
      "2025-07-15 08:28:51,106 - main - DEBUG - \u001b[1;32mTurn 10: No choice event.\u001b[0m\n",
      "2025-07-15 08:28:51,276 - main - DEBUG - \u001b[1;32mTurn 10: No main race today.\u001b[0m\n",
      "2025-07-15 08:28:51,365 - main - DEBUG - \u001b[1;32mTurn 10: Status good today.\u001b[0m\n",
      "2025-07-15 08:28:51,768 - main - INFO - \u001b[1;34mTurn 10: Mood is GREAT, no need to raise mood.\u001b[0m\n",
      "2025-07-15 08:28:51,868 - main - INFO - \u001b[1;34mTurn 10: Energy bar safe.\u001b[0m\n",
      "2025-07-15 08:28:51,869 - main - DEBUG - \u001b[1;32mTurn 10: Check training options.\u001b[0m\n"
     ]
    },
    {
     "name": "stdout",
     "output_type": "stream",
     "text": [
      "The score under 2th training option is 2.6\n",
      "The score under 3th training option is 0.2\n",
      "The score under 4th training option is -0.45\n",
      "The score under 5th training option is 0.0\n",
      "The score under 1th training option is 1.5\n"
     ]
    },
    {
     "name": "stderr",
     "output_type": "stream",
     "text": [
      "2025-07-15 08:29:03,975 - main - INFO - \u001b[1;34mTurn 10: Training Stamina with score 2.6.\u001b[0m\n",
      "2025-07-15 08:29:08,060 - main - DEBUG - \u001b[1;32mTurn 11: No choice event.\u001b[0m\n",
      "2025-07-15 08:29:08,243 - main - DEBUG - \u001b[1;32mTurn 11: No main race today.\u001b[0m\n",
      "2025-07-15 08:29:08,334 - main - DEBUG - \u001b[1;32mTurn 11: Status good today.\u001b[0m\n",
      "2025-07-15 08:29:08,699 - main - INFO - \u001b[1;34mTurn 11: Mood is GREAT, no need to raise mood.\u001b[0m\n",
      "2025-07-15 08:29:08,790 - main - INFO - \u001b[1;34mTurn 11: Energy bar safe.\u001b[0m\n",
      "2025-07-15 08:29:08,791 - main - DEBUG - \u001b[1;32mTurn 11: Check training options.\u001b[0m\n"
     ]
    },
    {
     "name": "stdout",
     "output_type": "stream",
     "text": [
      "The score under 3th training option is 0.2\n",
      "The score under 4th training option is 1.55\n",
      "The score under 5th training option is 0.0\n",
      "The score under 1th training option is 1.5\n",
      "The score under 2th training option is 1.6\n"
     ]
    },
    {
     "name": "stderr",
     "output_type": "stream",
     "text": [
      "2025-07-15 08:29:20,750 - main - INFO - \u001b[1;34mTurn 11: Training Stamina with score 1.6.\u001b[0m\n",
      "2025-07-15 08:29:24,834 - main - DEBUG - \u001b[1;32mTurn 12: No choice event.\u001b[0m\n",
      "2025-07-15 08:29:25,039 - main - DEBUG - \u001b[1;32mTurn 12: No main race today.\u001b[0m\n",
      "2025-07-15 08:29:25,125 - main - DEBUG - \u001b[1;32mTurn 12: Status good today.\u001b[0m\n",
      "2025-07-15 08:29:25,483 - main - INFO - \u001b[1;34mTurn 12: Mood is GREAT, no need to raise mood.\u001b[0m\n",
      "2025-07-15 08:29:25,575 - main - INFO - \u001b[1;34mTurn 12: Energy bar safe.\u001b[0m\n",
      "2025-07-15 08:29:25,576 - main - DEBUG - \u001b[1;32mTurn 12: Check training options.\u001b[0m\n"
     ]
    },
    {
     "name": "stdout",
     "output_type": "stream",
     "text": [
      "The score under 3th training option is 0.2\n",
      "The score under 4th training option is -0.45\n",
      "The score under 5th training option is 0.0\n",
      "The score under 1th training option is 2.5\n",
      "The score under 2th training option is 2.6\n"
     ]
    },
    {
     "name": "stderr",
     "output_type": "stream",
     "text": [
      "2025-07-15 08:29:37,559 - main - INFO - \u001b[1;34mTurn 12: Training Stamina with score 2.6.\u001b[0m\n",
      "2025-07-15 08:29:49,911 - main - DEBUG - \u001b[1;32mTurn 13: No choice event.\u001b[0m\n",
      "2025-07-15 08:29:50,094 - main - DEBUG - \u001b[1;32mTurn 13: No main race today.\u001b[0m\n",
      "2025-07-15 08:29:50,187 - main - DEBUG - \u001b[1;32mTurn 13: Status good today.\u001b[0m\n",
      "2025-07-15 08:29:50,549 - main - INFO - \u001b[1;34mTurn 13: Mood is GREAT, no need to raise mood.\u001b[0m\n",
      "2025-07-15 08:29:50,645 - main - INFO - \u001b[1;34mTurn 13: Energy bar safe.\u001b[0m\n",
      "2025-07-15 08:29:50,646 - main - DEBUG - \u001b[1;32mTurn 13: Check training options.\u001b[0m\n"
     ]
    },
    {
     "name": "stdout",
     "output_type": "stream",
     "text": [
      "The score under 3th training option is 0.2\n",
      "The score under 4th training option is 1.55\n",
      "The score under 5th training option is 0.0\n",
      "The score under 1th training option is 2.5\n",
      "The score under 2th training option is 0.6\n"
     ]
    },
    {
     "name": "stderr",
     "output_type": "stream",
     "text": [
      "2025-07-15 08:30:02,624 - main - INFO - \u001b[1;34mTurn 13: Training Speed with score 2.5.\u001b[0m\n",
      "2025-07-15 08:30:14,981 - main - DEBUG - \u001b[1;32mTurn 14: No choice event.\u001b[0m\n",
      "2025-07-15 08:30:15,144 - main - DEBUG - \u001b[1;32mTurn 14: No main race today.\u001b[0m\n",
      "2025-07-15 08:30:15,238 - main - DEBUG - \u001b[1;32mTurn 14: Status good today.\u001b[0m\n",
      "2025-07-15 08:30:15,605 - main - INFO - \u001b[1;34mTurn 14: Mood is GREAT, no need to raise mood.\u001b[0m\n",
      "2025-07-15 08:30:15,710 - main - INFO - \u001b[1;34mTurn 14: Energy bar low, rest.\u001b[0m\n",
      "2025-07-15 08:30:25,394 - main - DEBUG - \u001b[1;32mTurn 15: No choice event.\u001b[0m\n",
      "2025-07-15 08:30:25,571 - main - DEBUG - \u001b[1;32mTurn 15: No main race today.\u001b[0m\n",
      "2025-07-15 08:30:25,665 - main - DEBUG - \u001b[1;32mTurn 15: Status good today.\u001b[0m\n",
      "2025-07-15 08:30:26,020 - main - INFO - \u001b[1;34mTurn 15: Mood is GREAT, no need to raise mood.\u001b[0m\n",
      "2025-07-15 08:30:26,112 - main - INFO - \u001b[1;34mTurn 15: Energy bar safe.\u001b[0m\n",
      "2025-07-15 08:30:26,113 - main - DEBUG - \u001b[1;32mTurn 15: Check training options.\u001b[0m\n"
     ]
    },
    {
     "name": "stdout",
     "output_type": "stream",
     "text": [
      "The score under 2th training option is 0.6\n",
      "The score under 3th training option is 2.2\n",
      "The score under 4th training option is 0.55\n",
      "The score under 5th training option is 0.0\n",
      "The score under 1th training option is 1.5\n"
     ]
    },
    {
     "name": "stderr",
     "output_type": "stream",
     "text": [
      "2025-07-15 08:30:38,149 - main - INFO - \u001b[1;34mTurn 15: Training Power with score 2.2.\u001b[0m\n",
      "2025-07-15 08:30:50,514 - main - DEBUG - \u001b[1;32mTurn 16: No choice event.\u001b[0m\n",
      "2025-07-15 08:30:50,683 - main - DEBUG - \u001b[1;32mTurn 16: No main race today.\u001b[0m\n",
      "2025-07-15 08:30:50,780 - main - DEBUG - \u001b[1;32mTurn 16: Status good today.\u001b[0m\n",
      "2025-07-15 08:30:51,186 - main - INFO - \u001b[1;34mTurn 16: Mood is GREAT, no need to raise mood.\u001b[0m\n",
      "2025-07-15 08:30:51,285 - main - INFO - \u001b[1;34mTurn 16: Energy bar safe.\u001b[0m\n",
      "2025-07-15 08:30:51,285 - main - DEBUG - \u001b[1;32mTurn 16: Check training options.\u001b[0m\n"
     ]
    },
    {
     "name": "stdout",
     "output_type": "stream",
     "text": [
      "The score under 4th training option is -0.45\n",
      "The score under 5th training option is 1.0\n",
      "The score under 1th training option is 2.5\n",
      "The score under 2th training option is 1.6\n",
      "The score under 3th training option is 1.2\n"
     ]
    },
    {
     "name": "stderr",
     "output_type": "stream",
     "text": [
      "2025-07-15 08:31:03,396 - main - INFO - \u001b[1;34mTurn 16: Training Speed with score 2.5.\u001b[0m\n",
      "2025-07-15 08:31:07,488 - main - DEBUG - \u001b[1;32mTurn 17: No choice event.\u001b[0m\n",
      "2025-07-15 08:31:07,670 - main - DEBUG - \u001b[1;32mTurn 17: No main race today.\u001b[0m\n",
      "2025-07-15 08:31:07,777 - main - DEBUG - \u001b[1;32mTurn 17: Status good today.\u001b[0m\n",
      "2025-07-15 08:31:08,197 - main - INFO - \u001b[1;34mTurn 17: Mood is GREAT, no need to raise mood.\u001b[0m\n",
      "2025-07-15 08:31:08,299 - main - INFO - \u001b[1;34mTurn 17: Energy bar low, rest.\u001b[0m\n"
     ]
    }
   ],
   "source": [
    "# Run this code and you will see log like below, if anything wrong, restart this file and chang turn🐧 \n",
    "game.train_horse_loop(\"Oguri Cup\", turn=4)"
   ]
  },
  {
   "cell_type": "code",
   "execution_count": null,
   "metadata": {},
   "outputs": [],
   "source": [
    "identify_image(\"tlcorner\", confi=0.5)"
   ]
  },
  {
   "cell_type": "code",
   "execution_count": null,
   "metadata": {},
   "outputs": [],
   "source": [
    "pyautogui.click(857.5, 176.5)"
   ]
  },
  {
   "cell_type": "code",
   "execution_count": null,
   "metadata": {},
   "outputs": [],
   "source": []
  }
 ],
 "metadata": {
  "kernelspec": {
   "display_name": "AutoGame",
   "language": "python",
   "name": "python3"
  },
  "language_info": {
   "codemirror_mode": {
    "name": "ipython",
    "version": 3
   },
   "file_extension": ".py",
   "mimetype": "text/x-python",
   "name": "python",
   "nbconvert_exporter": "python",
   "pygments_lexer": "ipython3",
   "version": "3.12.11"
  }
 },
 "nbformat": 4,
 "nbformat_minor": 2
}

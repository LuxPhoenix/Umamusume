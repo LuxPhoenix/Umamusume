{
 "cells": [
  {
   "cell_type": "markdown",
   "metadata": {},
   "source": [
    "# Run steam version\n",
    "\n",
    "- After you see training UI that have \"Rest\", \"Training\", \"Skill\",... run the code below, the screen size will automatic will change to 1440x"
   ]
  },
  {
   "cell_type": "code",
   "execution_count": null,
   "metadata": {},
   "outputs": [
    {
     "name": "stdout",
     "output_type": "stream",
     "text": [
      "Initialize logger for main\n",
      "Continue to next turn.\n"
     ]
    }
   ],
   "source": [
    "from control_laptop import UmaGame, identify_image\n",
    "import pygetwindow as gw\n",
    "\n",
    "game = UmaGame(test=1)"
   ]
  },
  {
   "cell_type": "code",
   "execution_count": null,
   "metadata": {},
   "outputs": [
    {
     "name": "stderr",
     "output_type": "stream",
     "text": [
      "2025-07-14 21:20:56,330 - main - DEBUG - \u001b[1;32mTurn 4: No choice event.\u001b[0m\n",
      "2025-07-14 21:20:57,453 - main - INFO - \u001b[1;34mTurn 4: Race day detected.\u001b[0m\n",
      "2025-07-14 21:20:57,455 - main - INFO - \u001b[1;34mTurn 4: Following main agenda to race\u001b[0m\n",
      "2025-07-14 21:22:05,747 - main - DEBUG - \u001b[1;32mTurn 5: No choice event.\u001b[0m\n",
      "2025-07-14 21:22:06,562 - main - DEBUG - \u001b[1;32mTurn 5: No main race today.\u001b[0m\n",
      "2025-07-14 21:22:07,001 - main - DEBUG - \u001b[1;32mTurn 5: Status good today.\u001b[0m\n",
      "2025-07-14 21:22:09,175 - main - INFO - \u001b[1;34mTurn 5: Mood is GREAT, no need to raise mood.\u001b[0m\n",
      "2025-07-14 21:22:09,671 - main - INFO - \u001b[1;34mTurn 5: Energy bar low, rest.\u001b[0m\n",
      "2025-07-14 21:22:18,612 - main - DEBUG - \u001b[1;32mTurn 6: No choice event.\u001b[0m\n",
      "2025-07-14 21:22:19,413 - main - DEBUG - \u001b[1;32mTurn 6: No main race today.\u001b[0m\n",
      "2025-07-14 21:22:19,856 - main - DEBUG - \u001b[1;32mTurn 6: Status good today.\u001b[0m\n",
      "2025-07-14 21:22:22,198 - main - INFO - \u001b[1;34mTurn 6: Mood is GREAT, no need to raise mood.\u001b[0m\n",
      "2025-07-14 21:22:22,608 - main - INFO - \u001b[1;34mTurn 6: Energy bar safe.\u001b[0m\n",
      "2025-07-14 21:22:22,609 - main - DEBUG - \u001b[1;32mTurn 6: Check training options.\u001b[0m\n"
     ]
    },
    {
     "name": "stdout",
     "output_type": "stream",
     "text": [
      "The score under 2th training option is 0.6\n",
      "The score under 3th training option is 0.5\n",
      "The score under 4th training option is -0.8\n",
      "The score under 5th training option is 3.0\n",
      "The score under 1th training option is 1.5\n"
     ]
    },
    {
     "name": "stderr",
     "output_type": "stream",
     "text": [
      "2025-07-14 21:22:55,969 - main - INFO - \u001b[1;34mTurn 6: Training Wits with score 3.0.\u001b[0m\n",
      "2025-07-14 21:23:00,352 - main - DEBUG - \u001b[1;32mTurn 7: No choice event.\u001b[0m\n",
      "2025-07-14 21:23:01,195 - main - DEBUG - \u001b[1;32mTurn 7: No main race today.\u001b[0m\n",
      "2025-07-14 21:23:01,643 - main - DEBUG - \u001b[1;32mTurn 7: Status good today.\u001b[0m\n",
      "2025-07-14 21:23:03,340 - main - INFO - \u001b[1;34mTurn 7: Mood is GREAT, no need to raise mood.\u001b[0m\n",
      "2025-07-14 21:23:03,816 - main - INFO - \u001b[1;34mTurn 7: Energy bar safe.\u001b[0m\n",
      "2025-07-14 21:23:03,817 - main - DEBUG - \u001b[1;32mTurn 7: Check training options.\u001b[0m\n"
     ]
    },
    {
     "name": "stdout",
     "output_type": "stream",
     "text": [
      "The score under 1th training option is 3.5\n",
      "The score under 2th training option is 0.6\n",
      "The score under 3th training option is 1.5\n",
      "The score under 4th training option is 0.19999999999999996\n",
      "The score under 5th training option is 0.0\n"
     ]
    },
    {
     "name": "stderr",
     "output_type": "stream",
     "text": [
      "2025-07-14 21:23:36,463 - main - INFO - \u001b[1;34mTurn 7: Training Speed with score 3.5.\u001b[0m\n",
      "2025-07-14 21:23:40,775 - main - DEBUG - \u001b[1;32mTurn 8: No choice event.\u001b[0m\n",
      "2025-07-14 21:23:41,538 - main - DEBUG - \u001b[1;32mTurn 8: No main race today.\u001b[0m\n",
      "2025-07-14 21:23:41,961 - main - DEBUG - \u001b[1;32mTurn 8: Status good today.\u001b[0m\n",
      "2025-07-14 21:23:43,526 - main - INFO - \u001b[1;34mTurn 8: Mood is GREAT, no need to raise mood.\u001b[0m\n",
      "2025-07-14 21:23:43,926 - main - INFO - \u001b[1;34mTurn 8: Energy bar safe.\u001b[0m\n",
      "2025-07-14 21:23:43,928 - main - DEBUG - \u001b[1;32mTurn 8: Check training options.\u001b[0m\n"
     ]
    },
    {
     "name": "stdout",
     "output_type": "stream",
     "text": [
      "The score under 2th training option is 0.6\n",
      "The score under 3th training option is 1.5\n",
      "The score under 4th training option is 2.2\n",
      "The score under 5th training option is 0.0\n",
      "The score under 1th training option is 1.5\n"
     ]
    },
    {
     "name": "stderr",
     "output_type": "stream",
     "text": [
      "2025-07-14 21:24:16,476 - main - INFO - \u001b[1;34mTurn 8: Training Guts with score 2.2.\u001b[0m\n",
      "2025-07-14 21:24:20,776 - main - DEBUG - \u001b[1;32mTurn 9: No choice event.\u001b[0m\n",
      "2025-07-14 21:24:21,565 - main - DEBUG - \u001b[1;32mTurn 9: No main race today.\u001b[0m\n",
      "2025-07-14 21:24:22,006 - main - DEBUG - \u001b[1;32mTurn 9: Status good today.\u001b[0m\n",
      "2025-07-14 21:24:23,714 - main - INFO - \u001b[1;34mTurn 9: Mood is GREAT, no need to raise mood.\u001b[0m\n",
      "2025-07-14 21:24:24,178 - main - INFO - \u001b[1;34mTurn 9: Energy bar low, rest.\u001b[0m\n",
      "2025-07-14 21:24:33,149 - main - DEBUG - \u001b[1;32mTurn 10: No choice event.\u001b[0m\n",
      "2025-07-14 21:24:33,979 - main - DEBUG - \u001b[1;32mTurn 10: No main race today.\u001b[0m\n",
      "2025-07-14 21:24:34,464 - main - DEBUG - \u001b[1;32mTurn 10: Status good today.\u001b[0m\n",
      "2025-07-14 21:24:36,535 - main - INFO - \u001b[1;34mTurn 10: Mood is GREAT, no need to raise mood.\u001b[0m\n",
      "2025-07-14 21:24:37,008 - main - INFO - \u001b[1;34mTurn 10: Energy bar safe.\u001b[0m\n",
      "2025-07-14 21:24:37,011 - main - DEBUG - \u001b[1;32mTurn 10: Check training options.\u001b[0m\n"
     ]
    },
    {
     "name": "stdout",
     "output_type": "stream",
     "text": [
      "The score under 5th training option is 1.0\n",
      "The score under 1th training option is 3.5\n",
      "The score under 2th training option is 0.6\n",
      "The score under 3th training option is 1.5\n",
      "The score under 4th training option is -0.8\n"
     ]
    },
    {
     "name": "stderr",
     "output_type": "stream",
     "text": [
      "2025-07-14 21:25:11,363 - main - INFO - \u001b[1;34mTurn 10: Training Speed with score 3.5.\u001b[0m\n",
      "2025-07-14 21:25:15,769 - main - DEBUG - \u001b[1;32mTurn 11: No choice event.\u001b[0m\n",
      "2025-07-14 21:25:16,856 - main - DEBUG - \u001b[1;32mTurn 11: No main race today.\u001b[0m\n",
      "2025-07-14 21:25:17,646 - main - DEBUG - \u001b[1;32mTurn 11: Status good today.\u001b[0m\n",
      "2025-07-14 21:25:19,421 - main - INFO - \u001b[1;34mTurn 11: Mood is GREAT, no need to raise mood.\u001b[0m\n",
      "2025-07-14 21:25:19,923 - main - INFO - \u001b[1;34mTurn 11: Energy bar safe.\u001b[0m\n",
      "2025-07-14 21:25:19,925 - main - DEBUG - \u001b[1;32mTurn 11: Check training options.\u001b[0m\n"
     ]
    },
    {
     "name": "stdout",
     "output_type": "stream",
     "text": [
      "The score under 2th training option is 0.6\n",
      "The score under 3th training option is 0.5\n",
      "The score under 4th training option is -0.8\n",
      "The score under 5th training option is 0.0\n",
      "The score under 1th training option is 1.5\n"
     ]
    },
    {
     "name": "stderr",
     "output_type": "stream",
     "text": [
      "2025-07-14 21:25:52,408 - main - INFO - \u001b[1;34mTurn 11: Training Speed with score 1.5.\u001b[0m\n"
     ]
    }
   ],
   "source": [
    "# Run this code and you will see log like below, if anything wrong, restart this file and chang turn🐧 \n",
    "game.train_horse_loop(\"Oguri Cup\", turn=4)"
   ]
  },
  {
   "cell_type": "code",
   "execution_count": null,
   "metadata": {},
   "outputs": [],
   "source": [
    "identify_image(\"tlcorner\", confi=0.5)"
   ]
  },
  {
   "cell_type": "code",
   "execution_count": null,
   "metadata": {},
   "outputs": [],
   "source": [
    "pyautogui.click(857.5, 176.5)"
   ]
  },
  {
   "cell_type": "code",
   "execution_count": null,
   "metadata": {},
   "outputs": [],
   "source": []
  }
 ],
 "metadata": {
  "kernelspec": {
   "display_name": "AutoGame",
   "language": "python",
   "name": "python3"
  },
  "language_info": {
   "codemirror_mode": {
    "name": "ipython",
    "version": 3
   },
   "file_extension": ".py",
   "mimetype": "text/x-python",
   "name": "python",
   "nbconvert_exporter": "python",
   "pygments_lexer": "ipython3",
   "version": "3.12.11"
  }
 },
 "nbformat": 4,
 "nbformat_minor": 2
}

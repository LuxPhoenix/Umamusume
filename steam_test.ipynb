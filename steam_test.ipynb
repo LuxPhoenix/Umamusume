{
 "cells": [
  {
   "cell_type": "markdown",
   "metadata": {},
   "source": [
    "# Run steam version\n",
    "\n",
    "- After you see training UI that have \"Rest\", \"Training\", \"Skill\",... run the code below, the screen size will automatic will change to 1440x"
   ]
  },
  {
   "cell_type": "code",
   "execution_count": 1,
   "metadata": {},
   "outputs": [
    {
     "name": "stdout",
     "output_type": "stream",
     "text": [
      "Initialize logger for main\n",
      "Continue to next turn.\n"
     ]
    }
   ],
   "source": [
    "from control_laptop import UmaGame, identify_image\n",
    "import pygetwindow as gw\n",
    "\n",
    "game = UmaGame(test=1)"
   ]
  },
  {
   "cell_type": "code",
   "execution_count": 2,
   "metadata": {},
   "outputs": [
    {
     "name": "stdout",
     "output_type": "stream",
     "text": [
      "Manual setup completed. Data saved to dictionary.json.\n"
     ]
    }
   ],
   "source": [
    "support_cards = [\"Kitasan Black (SSR)\", \"Sweep Tosho (SR)\", \"Super Creek (SSR)\", \"Manhattan Cafe (SR)\", \"Marvelous Sunday (SR)\", \"Agnes Tachyon (SR)\"]\n",
    "\n",
    "\n",
    "game._manual_setup(support_cards=support_cards, deck_name=\"Cap\")"
   ]
  },
  {
   "cell_type": "code",
   "execution_count": null,
   "metadata": {},
   "outputs": [],
   "source": [
    "identify_image(\"tlcorner\", confi=0.5)"
   ]
  },
  {
   "cell_type": "code",
   "execution_count": 2,
   "metadata": {},
   "outputs": [
    {
     "name": "stdout",
     "output_type": "stream",
     "text": [
      "[-1682, 316]\n"
     ]
    }
   ],
   "source": [
    "import pyautogui\n",
    "def get_mouse_position():\n",
    "    \"\"\"Get the current mouse position.\n",
    "    FOR TEST/LABEL ONLY\n",
    "    \"\"\"\n",
    "    return pyautogui.position()\n",
    "x, y = get_mouse_position()\n",
    "print([x-game.x, y-game.y])"
   ]
  },
  {
   "cell_type": "markdown",
   "metadata": {},
   "source": [
    "# Capture"
   ]
  },
  {
   "cell_type": "code",
   "execution_count": 2,
   "metadata": {},
   "outputs": [],
   "source": [
    "import time, pyautogui\n",
    "current_time = time.strftime(\"%Y-%m-%d %H:%M:%S\", time.localtime())\n",
    "capture_img = pyautogui.screenshot(region=(game.x, game.y, game.w, game.h))"
   ]
  },
  {
   "cell_type": "code",
   "execution_count": null,
   "metadata": {},
   "outputs": [],
   "source": [
    "capture_img.save(f\"capture.png\")"
   ]
  }
 ],
 "metadata": {
  "kernelspec": {
   "display_name": "AutoGame",
   "language": "python",
   "name": "python3"
  },
  "language_info": {
   "codemirror_mode": {
    "name": "ipython",
    "version": 3
   },
   "file_extension": ".py",
   "mimetype": "text/x-python",
   "name": "python",
   "nbconvert_exporter": "python",
   "pygments_lexer": "ipython3",
   "version": "3.12.11"
  }
 },
 "nbformat": 4,
 "nbformat_minor": 2
}
